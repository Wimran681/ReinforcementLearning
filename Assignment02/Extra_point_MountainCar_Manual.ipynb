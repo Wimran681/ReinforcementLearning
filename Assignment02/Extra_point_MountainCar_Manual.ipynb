{
 "cells": [
  {
   "cell_type": "markdown",
   "id": "71220ed9",
   "metadata": {},
   "source": [
    "# Manual Control of MountainCar Environment\n",
    "This notebook demonstrates a simple manual solution to the MountainCar problem.\n",
    "The goal is to explore solving the environment without reinforcement learning by using basic logic based on the car's velocity and position."
   ]
  },
  {
   "cell_type": "markdown",
   "id": "ff506bf9",
   "metadata": {},
   "source": [
    "## Environment Setup"
   ]
  },
  {
   "cell_type": "code",
   "execution_count": 1,
   "id": "445a07a2",
   "metadata": {},
   "outputs": [],
   "source": [
    "\n",
    "import gymnasium as gym\n",
    "import matplotlib.pyplot as plt\n",
    "from IPython.display import clear_output\n",
    "import time\n",
    "\n",
    "env = gym.make(\"MountainCar-v0\", render_mode=\"rgb_array\")\n"
   ]
  },
  {
   "cell_type": "markdown",
   "id": "9117f7b1",
   "metadata": {},
   "source": [
    "## Manual Agent Logic\n",
    "We define a simple rule-based policy to decide actions based on velocity."
   ]
  },
  {
   "cell_type": "code",
   "execution_count": 2,
   "id": "aee798f5",
   "metadata": {},
   "outputs": [],
   "source": [
    "\n",
    "def manual_policy(state):\n",
    "    position, velocity = state\n",
    "    if velocity > 0:\n",
    "        return 2  # push right\n",
    "    else:\n",
    "        return 0  # push left\n"
   ]
  },
  {
   "cell_type": "markdown",
   "id": "5c14fd55",
   "metadata": {},
   "source": [
    "## Running the Manual Agent in the Environment"
   ]
  },
  {
   "cell_type": "code",
   "execution_count": null,
   "id": "0a2b2e35",
   "metadata": {},
   "outputs": [
    {
     "data": {
      "image/png": "[encoded data removed]",
      "text/plain": [
       "<Figure size 640x480 with 1 Axes>"
      ]
     },
     "metadata": {},
     "output_type": "display_data"
    },
    {
     "ename": "",
     "evalue": "",
     "output_type": "error",
     "traceback": [
      "\u001b[1;31mThe Kernel crashed while executing code in the current cell or a previous cell. \n",
      "\u001b[1;31mPlease review the code in the cell(s) to identify a possible cause of the failure. \n",
      "\u001b[1;31mClick <a href='https://aka.ms/vscodeJupyterKernelCrash'>here</a> for more info. \n",
      "\u001b[1;31mView Jupyter <a href='command:jupyter.viewOutput'>log</a> for further details."
     ]
    }
   ],
   "source": [
    "\n",
    "state, _ = env.reset()\n",
    "done = False\n",
    "\n",
    "while not done:\n",
    "    action = manual_policy(state)\n",
    "    state, reward, done, truncated, _ = env.step(action)\n",
    "\n",
    "    clear_output(wait=True)\n",
    "    plt.imshow(env.render())\n",
    "    plt.axis('off')\n",
    "    plt.show()\n",
    "    time.sleep(0.05)\n",
    "\n",
    "env.close()\n"
   ]
  }
 ],
 "metadata": {
  "kernelspec": {
   "display_name": "Python 3",
   "language": "python",
   "name": "python3"
  },
  "language_info": {
   "codemirror_mode": {
    "name": "ipython",
    "version": 3
   },
   "file_extension": ".py",
   "mimetype": "text/x-python",
   "name": "python",
   "nbconvert_exporter": "python",
   "pygments_lexer": "ipython3",
   "version": "3.10.11"
  }
 },
 "nbformat": 4,
 "nbformat_minor": 5
}
