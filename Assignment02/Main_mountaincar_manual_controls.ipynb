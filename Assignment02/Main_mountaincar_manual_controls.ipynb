{
 "cells": [
  {
   "cell_type": "markdown",
   "metadata": {},
   "source": [
    "## MountainCar - manually playing the environment"
   ]
  },
  {
   "cell_type": "markdown",
   "metadata": {},
   "source": [
    "#### https://gymnasium.farama.org/environments/classic_control/mountain_car/"
   ]
  },
  {
   "cell_type": "code",
   "execution_count": 3,
   "metadata": {},
   "outputs": [],
   "source": [
    "# let's try our second environment - MountainCar\n",
    "\n",
    "from gymnasium.utils import play\n",
    "import gymnasium as gym\n",
    "import numpy as np\n",
    "import os\n",
    "import time\n",
    "import matplotlib.pyplot as plt\n",
    "from IPython.display import clear_output\n",
    "\n"
   ]
  },
  {
   "cell_type": "markdown",
   "metadata": {},
   "source": [
    "## Version 1: just playing the game (a and s to move the car)"
   ]
  },
  {
   "cell_type": "code",
   "execution_count": 4,
   "metadata": {},
   "outputs": [
    {
     "name": "stderr",
     "output_type": "stream",
     "text": [
      "2025-04-17 08:37:37.764 Python[1399:17762] +[IMKClient subclass]: chose IMKClient_Legacy\n",
      "2025-04-17 08:37:37.764 Python[1399:17762] +[IMKInputSession subclass]: chose IMKInputSession_Legacy\n"
     ]
    }
   ],
   "source": [
    "# create the mountain car environment\n",
    "env = gym.make('MountainCar-v0', render_mode=\"rgb_array\", max_episode_steps=-1)\n",
    "\n",
    "\n",
    "# By increasing gravity (env.env.gravity = 0.004 from the default 0.0025), I am making it harder for the car to climb the hill,\n",
    "# because gravity pulls it back more strongly.\n",
    "# Findings or study also I noticed bit difference by playing with gravity or increasing it \n",
    "# With stronger gravity, the car took more steps or failed to reach the goal\n",
    "# With stronger gravity, the car usually fails to reach the goal\n",
    "# It goes a bit less far with stronger gravity, Lower reward with stronger gravity because it struggles more.\n",
    "\n",
    "# \n",
    "#env.env.gravity = 0.004 \n",
    "\n",
    "# There are 3 discrete deterministic actions:\n",
    "# 0: Accelerate to the left\n",
    "# 1: Don’t accelerate\n",
    "# 2: Accelerate to the right\n",
    "\n",
    "# map the keys\n",
    "action_keys = {\n",
    "    \"a\": 0,\n",
    "    \"s\": 1, \n",
    "    \"d\": 2\n",
    "}\n",
    "\n",
    "# fps=30:the game looks fast and smooth. You have less time to react between each step.\n",
    "#fps=10:the game plays slower, showing fewer frames per second. You get more time to press keys and react.\n",
    "# noop = no operation, which key means \"do nothing\"\n",
    "play.play(env, fps=130, keys_to_action=action_keys, wait_on_player=False, noop=1)\n",
    "#play.play(env, fps=10, keys_to_action=action_keys, wait_on_player=False, noop=1)"
   ]
  },
  {
   "cell_type": "markdown",
   "metadata": {},
   "source": [
    "## Version 2: Keep track of current values as you play"
   ]
  },
  {
   "cell_type": "code",
   "execution_count": null,
   "metadata": {},
   "outputs": [
    {
     "name": "stdout",
     "output_type": "stream",
     "text": [
      "Position: [-0.4712249  0.       ] - Velocity {}\n",
      "Position: -0.5695220828056335 - Velocity -0.002355181612074375\n",
      "Position: -0.4975135326385498 - Velocity 0.0040269880555570126\n",
      "Position: -0.5222286581993103 - Velocity -0.004524339456111193\n",
      "Position: -0.5520238876342773 - Velocity 0.0036995059344917536\n",
      "Position: -0.47641807794570923 - Velocity -0.0017970309127122164\n",
      "Position: -0.5757830142974854 - Velocity -0.0006262860842980444\n",
      "Position: -0.48161250352859497 - Velocity 0.0028683317359536886\n",
      "Position: -0.5431422591209412 - Velocity -0.004277034662663937\n",
      "Position: -0.5322071313858032 - Velocity 0.004437120631337166\n",
      "Position: -0.4893541932106018 - Velocity -0.003300993237644434\n"
     ]
    }
   ],
   "source": [
    "# create the mountain car environment\n",
    "env = gym.make('MountainCar-v0', render_mode=\"rgb_array\", max_episode_steps=-1)\n",
    "\n",
    "\n",
    "# Important, I run multipal time, Value that i mentioned here is just an example, it can be changed depending on playing and parameteres\n",
    "\n",
    "#Findings and explanation based on logs without altering code\n",
    "# Position shows where the car is on the mountain.\n",
    "# Velocity shows how fast and in which direction the car is moving.\n",
    "# When velocity is positive, the car is moving right (uphill).\n",
    "# When velocity is negative, the car is moving left (downhill).\n",
    "# Big position jumps show the car is moving quickly. for example (Position: -0.8133816123008728 Next Position: -0.5592411160469055)\n",
    "# Change in position = +0.2541 its a  big jump to the right. Velocity: 0.0388 → A high positive value shows  car is moving fast uphill.\n",
    "# A large negative position (like -1.1) means the car is far left, and Fluctuations in position/velocity show the car is swinging back and forth to build momentum.\n",
    "# Positive velocity + increasing position = car is climbing and Negative velocity + decreasing position = car is falling back.\n",
    "\n",
    "\n",
    "# There are 3 discrete deterministic actions:\n",
    "# 0: Accelerate to the left\n",
    "# 1: Don’t accelerate\n",
    "# 2: Accelerate to the right\n",
    "\n",
    "# map the keys\n",
    "action_keys = {\n",
    "    \"a\": 0,\n",
    "    \"s\": 1, \n",
    "    \"d\": 2\n",
    "}\n",
    "\n",
    "counter = 0\n",
    "\n",
    "# to see a little bit of the values while we play\n",
    "# we'll have a custom logging callback\n",
    "def custom_callback(*args, **kwargs):\n",
    "    action = args[2]\n",
    "    position = args[0][0]\n",
    "    velocity = args[0][1]\n",
    "    done = args[4]\n",
    "    global counter\n",
    "\n",
    "    if counter % 30 == 0:\n",
    "        print(f\"Position: {position} - Velocity {velocity}\")\n",
    "        counter = 0\n",
    "\n",
    "    counter += 1\n",
    "\n",
    "\n",
    "\n",
    "# noop = no operation, which key means \"do nothing\"\n",
    "play.play(env, fps=30, keys_to_action=action_keys, wait_on_player=False, noop=1, callback=custom_callback)"
   ]
  }
 ],
 "metadata": {
  "kernelspec": {
   "display_name": "Python 3",
   "language": "python",
   "name": "python3"
  },
  "language_info": {
   "codemirror_mode": {
    "name": "ipython",
    "version": 3
   },
   "file_extension": ".py",
   "mimetype": "text/x-python",
   "name": "python",
   "nbconvert_exporter": "python",
   "pygments_lexer": "ipython3",
   "version": "3.10.11"
  }
 },
 "nbformat": 4,
 "nbformat_minor": 2
}
